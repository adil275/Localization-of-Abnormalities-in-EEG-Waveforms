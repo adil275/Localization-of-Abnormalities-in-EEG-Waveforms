{
 "cells": [
  {
   "cell_type": "markdown",
   "metadata": {},
   "source": [
    "#### Clear Ram"
   ]
  },
  {
   "cell_type": "code",
   "execution_count": 1,
   "metadata": {},
   "outputs": [],
   "source": [
    "import gc"
   ]
  },
  {
   "cell_type": "code",
   "execution_count": 2,
   "metadata": {},
   "outputs": [
    {
     "data": {
      "text/plain": [
       "215"
      ]
     },
     "execution_count": 2,
     "metadata": {},
     "output_type": "execute_result"
    }
   ],
   "source": [
    "gc.collect()"
   ]
  },
  {
   "cell_type": "markdown",
   "metadata": {
    "id": "GEveHHgnM9lQ"
   },
   "source": [
    "#### Load Libraries"
   ]
  },
  {
   "cell_type": "code",
   "execution_count": 3,
   "metadata": {
    "colab": {
     "base_uri": "https://localhost:8080/"
    },
    "id": "MAyAys3BM_NA",
    "outputId": "c3ada143-fa94-4431-8a27-57a3c43cd2a1"
   },
   "outputs": [],
   "source": [
    "import mne\n",
    "import numpy as np\n",
    "import pandas \n",
    "import os\n",
    "import matplotlib.pyplot as plt\n",
    "import random\n",
    "from tqdm import tqdm\n",
    "import math\n",
    "import pywt\n",
    "\n",
    "from utils import *\n",
    "from matplotlib.patches import Rectangle\n",
    "from sklearn.decomposition import PCA\n",
    "\n",
    "random.seed(444)"
   ]
  },
  {
   "cell_type": "markdown",
   "metadata": {
    "id": "ZZUFvGjWNCcJ"
   },
   "source": [
    "### Load & Process Data"
   ]
  },
  {
   "cell_type": "markdown",
   "metadata": {
    "id": "3MjW_N9tNNqR"
   },
   "source": [
    "#### Define Data Paths"
   ]
  },
  {
   "cell_type": "code",
   "execution_count": 4,
   "metadata": {
    "id": "47CSd_RmNAe_"
   },
   "outputs": [],
   "source": [
    "main_path = '/home/Desktop/FINAL DATASET ~ 22nd Sep/'\n",
    "ab_edf_path = main_path + 'EDF Files/Abnormal EDF Files/'\n",
    "n_edf_path = main_path + 'EDF Files/Normal EDF Files/'\n",
    "ab_labels_path = main_path + 'CSV Files/SW & SSW CSV Files/'\n",
    "save_path = '/home/Downloads/FYP - Notebooks/data/numpy arrays/'"
   ]
  },
  {
   "cell_type": "code",
   "execution_count": 5,
   "metadata": {
    "id": "YY4IbROrORf_"
   },
   "outputs": [],
   "source": [
    "class_label_names = ['normal', 'slowing', 'spike and wave']"
   ]
  },
  {
   "cell_type": "markdown",
   "metadata": {},
   "source": [
    "#### Load Data from File"
   ]
  },
  {
   "cell_type": "code",
   "execution_count": 6,
   "metadata": {},
   "outputs": [],
   "source": [
    "all_edf_data = np.concatenate((os.listdir(n_edf_path),os.listdir(ab_edf_path)), axis = 0)"
   ]
  },
  {
   "cell_type": "code",
   "execution_count": 7,
   "metadata": {},
   "outputs": [],
   "source": [
    "# Line position for train and test\n",
    "\n",
    "train_pos = 0\n",
    "valid_pos = 501325\n",
    "test_pos = 608753"
   ]
  },
  {
   "cell_type": "code",
   "execution_count": 11,
   "metadata": {},
   "outputs": [],
   "source": [
    "w = pywt.Wavelet('db2')"
   ]
  },
  {
   "cell_type": "code",
   "execution_count": null,
   "metadata": {},
   "outputs": [],
   "source": [
    "train_window_data = []\n",
    "train_window_labels = []\n",
    "\n",
    "test_window_data = []\n",
    "test_window_labels = []\n",
    "\n",
    "normal_count = 0\n",
    "slowing_count = 0\n",
    "spike_count = 0\n",
    "\n",
    "for edf_name in tqdm(all_edf_data):\n",
    "    file_num = int(edf_name[:-4])\n",
    "    \n",
    "    if edf_name in os.listdir(ab_edf_path):\n",
    "        edf_path = ab_edf_path\n",
    "    else:\n",
    "        edf_path = n_edf_path\n",
    "    \n",
    "    raw = mne.io.read_raw_edf(edf_path+edf_name,preload = True,exclude = ['A1','A2'])     # Importing all EEG Channels, exculding A1 A2 since matlab has already refrenced the channels with A1 and A2\n",
    "    raw.filter(l_freq=1,h_freq=45)      # Bandpass filtering [1-45] Hz\n",
    "    epochs=mne.make_fixed_length_epochs(raw,duration=2,overlap=1)\n",
    "    epochs_data=epochs.get_data()\n",
    "    \n",
    "    data = np.array(raw.get_data()[0:19])\n",
    "    print('epochs_data shape = ',epochs_data.shape)\n",
    "    \n",
    "    # Epochs_data = np.concatenate((Epochs_data, epochs_data), axis=0)\n",
    "\n",
    "    with open('/home/Downloads/FYP - Notebooks/window_tracker.txt', 'r') as f:\n",
    "        lines = f.readlines()\n",
    "        for single_line in lines[train_pos+1:valid_pos]:\n",
    "            single_line_list = single_line.split(' ')\n",
    "            if edf_name == single_line_list[0]:\n",
    "                \n",
    "                data = epochs_data[int(single_line_list[2])][int(single_line_list[1])]\n",
    "                pca = PCA(n_components = 2)\n",
    "                decomp_levels = pywt.wavedec(data, wavelet=w,level = 4)\n",
    "                feature_vector = []\n",
    "                for k in range(len(decomp_levels)):\n",
    "                    feature_vector.append(stat_features(decomp_levels[k]))\n",
    "                feature_vector = np.array(feature_vector)\n",
    "                pca.fit(feature_vector)\n",
    "                pca_features = pca.fit_transform(feature_vector)\n",
    "                train_window_data.append(np.array(pca_features.flatten()))\n",
    "\n",
    "                train_window_labels.append(np.array(int(single_line_list[3])))\n",
    "        \n",
    "        for single_line in lines[valid_pos+1:test_pos]:\n",
    "            single_line_list = single_line.split(' ')\n",
    "            if edf_name == single_line_list[0]:\n",
    "                \n",
    "                data = epochs_data[int(single_line_list[2])][int(single_line_list[1])]\n",
    "                pca = PCA(n_components = 2)\n",
    "                decomp_levels = pywt.wavedec(data, wavelet=w,level = 4)\n",
    "                feature_vector = []\n",
    "                for k in range(len(decomp_levels)):\n",
    "                    feature_vector.append(stat_features(decomp_levels[k]))\n",
    "                feature_vector = np.array(feature_vector)\n",
    "                pca.fit(feature_vector)\n",
    "                pca_features = pca.fit_transform(feature_vector)\n",
    "                train_window_data.append(np.array(pca_features.flatten()))\n",
    "\n",
    "                train_window_labels.append(np.array(int(single_line_list[3])))\n",
    "        \n",
    "        for single_line in lines[test_pos+1:]:\n",
    "            single_line_list = single_line.split(' ')\n",
    "            if edf_name == single_line_list[0]:\n",
    "                \n",
    "                data = epochs_data[int(single_line_list[2])][int(single_line_list[1])]\n",
    "                pca = PCA(n_components = 2)\n",
    "                decomp_levels = pywt.wavedec(data, wavelet=w,level = 4)\n",
    "                feature_vector = []\n",
    "                for k in range(len(decomp_levels)):\n",
    "                    feature_vector.append(stat_features(decomp_levels[k]))\n",
    "                feature_vector = np.array(feature_vector)\n",
    "                pca.fit(feature_vector)\n",
    "                pca_features = pca.fit_transform(feature_vector)\n",
    "                test_window_data.append(np.array(pca_features.flatten()))\n",
    "\n",
    "                test_window_labels.append(np.array(int(single_line_list[3])))\n",
    "\n",
    "    "
   ]
  },
  {
   "cell_type": "code",
   "execution_count": 20,
   "metadata": {},
   "outputs": [],
   "source": [
    "# Save\n",
    "np.save(save_path + 'X_train.npy', train_window_data)\n",
    "np.save(save_path + 'X_test.npy', test_window_data)\n",
    "\n",
    "np.save(save_path + 'y_train.npy', train_window_labels)\n",
    "np.save(save_path + 'y_test.npy', test_window_labels)"
   ]
  },
  {
   "cell_type": "code",
   "execution_count": 12,
   "metadata": {},
   "outputs": [
    {
     "data": {
      "text/plain": [
       "<function gc.collect(generation=2)>"
      ]
     },
     "execution_count": 12,
     "metadata": {},
     "output_type": "execute_result"
    }
   ],
   "source": [
    "gc.collect"
   ]
  },
  {
   "cell_type": "code",
   "execution_count": 8,
   "metadata": {},
   "outputs": [],
   "source": [
    "X_train = np.load(save_path + 'X_train.npy')\n",
    "y_train = np.load(save_path + 'y_train.npy')\n",
    "\n",
    "X_test = np.load(save_path + 'X_test.npy')\n",
    "y_test = np.load(save_path + 'y_test.npy')"
   ]
  },
  {
   "cell_type": "code",
   "execution_count": 9,
   "metadata": {},
   "outputs": [
    {
     "name": "stdout",
     "output_type": "stream",
     "text": [
      "(608749, 10)\n",
      "(608749,)\n",
      "(107426, 10)\n",
      "(107426,)\n"
     ]
    }
   ],
   "source": [
    "print(X_train.shape)\n",
    "print(y_train.shape)\n",
    "\n",
    "print(X_test.shape)\n",
    "print(y_test.shape)"
   ]
  },
  {
   "cell_type": "markdown",
   "metadata": {
    "id": "-BLwYpKRKkzt"
   },
   "source": [
    "#### Standardize Data"
   ]
  },
  {
   "cell_type": "code",
   "execution_count": 21,
   "metadata": {
    "id": "t0Q-LCAXKtoX"
   },
   "outputs": [],
   "source": [
    "from sklearn.preprocessing import MinMaxScaler\n",
    "sc = MinMaxScaler()"
   ]
  },
  {
   "cell_type": "code",
   "execution_count": 22,
   "metadata": {
    "id": "nLfBdiCrKweE"
   },
   "outputs": [],
   "source": [
    "sc.fit(X_train)\n",
    "X_train_sc = sc.transform(X_train)\n",
    "X_test_sc = sc.transform(X_test)"
   ]
  },
  {
   "cell_type": "markdown",
   "metadata": {
    "id": "HrWfHnk-9qv_"
   },
   "source": [
    "### Model Implementation"
   ]
  },
  {
   "cell_type": "markdown",
   "metadata": {
    "id": "trjBg-KE9NjP"
   },
   "source": [
    "#### Accuracy Metrics and Confusion Matrix"
   ]
  },
  {
   "cell_type": "code",
   "execution_count": 12,
   "metadata": {
    "id": "-vLNOEAp9S-m"
   },
   "outputs": [],
   "source": [
    "from sklearn.model_selection import cross_val_score, cross_val_predict\n",
    "from sklearn.metrics import accuracy_score, classification_report, confusion_matrix\n",
    "import itertools"
   ]
  },
  {
   "cell_type": "code",
   "execution_count": 13,
   "metadata": {
    "id": "Y6tXPeVo90iO"
   },
   "outputs": [],
   "source": [
    "def plot_confusion_matrix(cm, classes = [0, 1, 2],\n",
    "                          normalize=False,\n",
    "                          title='Confusion matrix',\n",
    "                          cmap=plt.cm.Blues):\n",
    "    \"\"\"\n",
    "    This function prints and plots the confusion matrix.\n",
    "    Normalization can be applied by setting `normalize=True`.\n",
    "    \"\"\"\n",
    "    plt.rcParams['figure.figsize'] = [6, 4]\n",
    "    plt.rcParams['figure.dpi'] = 150\n",
    "\n",
    "    plt.imshow(cm, interpolation='nearest', cmap=cmap)\n",
    "    plt.title(title)\n",
    "    plt.colorbar()\n",
    "    tick_marks = np.arange(len(classes))\n",
    "    plt.xticks(tick_marks, classes, rotation=45)\n",
    "    plt.yticks(tick_marks, classes)\n",
    "\n",
    "    if normalize:\n",
    "        cm = cm.astype('float') / cm.sum(axis=1)[:, np.newaxis]\n",
    "        print(\"Normalized confusion matrix\")\n",
    "    else:\n",
    "        print('Confusion matrix, without normalization')\n",
    "\n",
    "    print(cm)\n",
    "\n",
    "    thresh = cm.max() / 2.\n",
    "    for i, j in itertools.product(range(cm.shape[0]), range(cm.shape[1])):\n",
    "        plt.text(j, i, cm[i, j],\n",
    "                 horizontalalignment=\"center\",\n",
    "                 color=\"white\" if cm[i, j] > thresh else \"black\")\n",
    "\n",
    "    plt.tight_layout()\n",
    "    plt.ylabel('True label')\n",
    "    plt.xlabel('Predicted label')"
   ]
  },
  {
   "cell_type": "code",
   "execution_count": 14,
   "metadata": {
    "id": "_XWbme2n9ywu"
   },
   "outputs": [],
   "source": [
    "def print_score(clf, X_train, y_train, X_test, y_test, train = True):\n",
    "    '''\n",
    "    print the accuracy score, classification report and confusion matrix of classifier\n",
    "    '''\n",
    "    if train:\n",
    "        '''\n",
    "        training performance\n",
    "        '''\n",
    "        print(\"Train Result:\\n\")\n",
    "        print(\"accuracy score: {0:.4f}\\n\".format(accuracy_score(y_train, clf.predict(X_train))))\n",
    "        print(\"Classification Report: \\n {}\\n\".format(classification_report(y_train, clf.predict(X_train), digits=5)))\n",
    "        cm = confusion_matrix(y_train, clf.predict(X_train))\n",
    "        plot_confusion_matrix(cm)\n",
    "        \n",
    "    elif train == False:\n",
    "        '''\n",
    "        test performance\n",
    "        '''\n",
    "        print(\"Test Result:\\n\")        \n",
    "        print(\"accuracy score: {0:.4f}\\n\".format(accuracy_score(y_test, clf.predict(X_test))))\n",
    "        print(\"Classification Report: \\n {}\\n\".format(classification_report(y_test, clf.predict(X_test), digits=5)))\n",
    "        cm = confusion_matrix(y_test, clf.predict(X_test))\n",
    "        plot_confusion_matrix(cm)"
   ]
  },
  {
   "cell_type": "markdown",
   "metadata": {
    "id": "PM3lUCyahe9P"
   },
   "source": [
    "#### Model 1: Simple Decision Tree Classifier"
   ]
  },
  {
   "cell_type": "code",
   "execution_count": 25,
   "metadata": {
    "id": "7_H7HfN4hoWF"
   },
   "outputs": [],
   "source": [
    "from sklearn.tree import DecisionTreeClassifier"
   ]
  },
  {
   "cell_type": "code",
   "execution_count": 162,
   "metadata": {
    "id": "ivivd81shqff"
   },
   "outputs": [],
   "source": [
    "cart_clf = DecisionTreeClassifier(criterion='entropy',max_features = 'log2',random_state = 0,max_depth=5,min_samples_leaf=50,splitter = 'best')"
   ]
  },
  {
   "cell_type": "code",
   "execution_count": 163,
   "metadata": {
    "colab": {
     "base_uri": "https://localhost:8080/"
    },
    "id": "3BmkSyi2hthH",
    "outputId": "15c356c3-4100-4783-8aea-3d0e7d8dba93"
   },
   "outputs": [
    {
     "data": {
      "text/plain": [
       "DecisionTreeClassifier(criterion='entropy', max_depth=5, max_features='log2',\n",
       "                       min_samples_leaf=50, random_state=0)"
      ]
     },
     "execution_count": 163,
     "metadata": {},
     "output_type": "execute_result"
    }
   ],
   "source": [
    "cart_clf.fit(X_train_sc, y_train)"
   ]
  },
  {
   "cell_type": "code",
   "execution_count": 164,
   "metadata": {
    "colab": {
     "base_uri": "https://localhost:8080/",
     "height": 1000
    },
    "id": "ZAJyUQGShw2t",
    "outputId": "39bf514d-1245-4eae-8297-5c375b4fdfa2"
   },
   "outputs": [],
   "source": [
    "#print_score(cart_clf, X_train_sc, y_train, X_test_sc, y_test, train = True)"
   ]
  },
  {
   "cell_type": "code",
   "execution_count": 165,
   "metadata": {
    "colab": {
     "base_uri": "https://localhost:8080/",
     "height": 1000
    },
    "id": "GzUkkxKTh1iX",
    "outputId": "3a8b77dd-bc60-4b6c-dc7c-bf6dab8ba0bf"
   },
   "outputs": [
    {
     "name": "stdout",
     "output_type": "stream",
     "text": [
      "Test Result:\n",
      "\n",
      "accuracy score: 0.7193\n",
      "\n",
      "Classification Report: \n",
      "               precision    recall  f1-score   support\n",
      "\n",
      "           0    0.82836   0.86999   0.84866     65409\n",
      "           1    0.51264   0.54008   0.52600     23878\n",
      "           2    0.55002   0.41160   0.47085     18139\n",
      "\n",
      "    accuracy                        0.71926    107426\n",
      "   macro avg    0.63034   0.60722   0.61517    107426\n",
      "weighted avg    0.71119   0.71926   0.71315    107426\n",
      "\n",
      "\n",
      "Confusion matrix, without normalization\n",
      "[[56905  5655  2849]\n",
      " [ 7723 12896  3259]\n",
      " [ 4068  6605  7466]]\n"
     ]
    },
    {
     "data": {
      "image/png": "[encoded data removed]",
      "text/plain": [
       "<Figure size 900x600 with 2 Axes>"
      ]
     },
     "metadata": {
      "needs_background": "light"
     },
     "output_type": "display_data"
    }
   ],
   "source": [
    "print_score(cart_clf, X_train_sc, y_train, X_test_sc, y_test, train = False)"
   ]
  },
  {
   "cell_type": "markdown",
   "metadata": {},
   "source": [
    "#### Model 2: Random Forest Classifier"
   ]
  },
  {
   "cell_type": "code",
   "execution_count": 58,
   "metadata": {},
   "outputs": [],
   "source": [
    "from sklearn.ensemble import RandomForestClassifier"
   ]
  },
  {
   "cell_type": "code",
   "execution_count": 213,
   "metadata": {},
   "outputs": [
    {
     "data": {
      "text/plain": [
       "RandomForestClassifier(criterion='entropy', max_depth=6, max_features='sqrt',\n",
       "                       min_samples_leaf=10, n_estimators=50, random_state=0)"
      ]
     },
     "execution_count": 213,
     "metadata": {},
     "output_type": "execute_result"
    }
   ],
   "source": [
    "rf_clf = RandomForestClassifier(n_estimators = 50,criterion='entropy',max_features = 'sqrt',random_state = 0,max_depth=6,min_samples_leaf=10)\n",
    "rf_clf.fit(X_train_sc, y_train.ravel())"
   ]
  },
  {
   "cell_type": "code",
   "execution_count": null,
   "metadata": {},
   "outputs": [],
   "source": [
    "print_score(rf_clf, X_train_sc, y_train, X_test_sc, y_test, train = True)"
   ]
  },
  {
   "cell_type": "code",
   "execution_count": 214,
   "metadata": {},
   "outputs": [
    {
     "name": "stdout",
     "output_type": "stream",
     "text": [
      "Test Result:\n",
      "\n",
      "accuracy score: 0.7445\n",
      "\n",
      "Classification Report: \n",
      "               precision    recall  f1-score   support\n",
      "\n",
      "           0    0.85178   0.86355   0.85762     65409\n",
      "           1    0.57906   0.56931   0.57414     23878\n",
      "           2    0.56155   0.54601   0.55367     18139\n",
      "\n",
      "    accuracy                        0.74453    107426\n",
      "   macro avg    0.66413   0.65962   0.66181    107426\n",
      "weighted avg    0.74215   0.74453   0.74329    107426\n",
      "\n",
      "\n",
      "Confusion matrix, without normalization\n",
      "[[56484  5462  3463]\n",
      " [ 6014 13594  4270]\n",
      " [ 3815  4420  9904]]\n"
     ]
    },
    {
     "data": {
      "image/png": "[encoded data removed]",
      "text/plain": [
       "<Figure size 900x600 with 2 Axes>"
      ]
     },
     "metadata": {
      "needs_background": "light"
     },
     "output_type": "display_data"
    }
   ],
   "source": [
    "print_score(rf_clf, X_train_sc, y_train, X_test_sc, y_test, train = False)                                     "
   ]
  },
  {
   "cell_type": "markdown",
   "metadata": {
    "id": "39S0KiatFx7j"
   },
   "source": [
    "#### Model 3: Linear SVM"
   ]
  },
  {
   "cell_type": "code",
   "execution_count": 23,
   "metadata": {
    "id": "y8hKbBWHN2Q1"
   },
   "outputs": [],
   "source": [
    "from sklearn import svm"
   ]
  },
  {
   "cell_type": "code",
   "execution_count": 24,
   "metadata": {},
   "outputs": [
    {
     "name": "stdout",
     "output_type": "stream",
     "text": [
      "[LibSVM]............................................................................................................................\n",
      "Warning: using -h 0 may be faster\n",
      "*...\n",
      "Warning: using -h 0 may be faster\n",
      "*....\n",
      "Warning: using -h 0 may be faster\n",
      "*....\n",
      "Warning: using -h 0 may be faster\n",
      "*..\n",
      "Warning: using -h 0 may be faster\n",
      "*.\n",
      "Warning: using -h 0 may be faster\n",
      "*..\n",
      "Warning: using -h 0 may be faster\n",
      "*\n",
      "optimization finished, #iter = 139119\n",
      "obj = -637626.143061, rho = 8.037256\n",
      "nSV = 213388, nBSV = 213363\n",
      ".............................................................................................\n",
      "Warning: using -h 0 may be faster\n",
      "*.....\n",
      "Warning: using -h 0 may be faster\n",
      "*.\n",
      "Warning: using -h 0 may be faster\n",
      "*.\n",
      "Warning: using -h 0 may be faster\n",
      "*.\n",
      "Warning: using -h 0 may be faster\n",
      "*\n",
      "optimization finished, #iter = 99878\n",
      "obj = -479342.764070, rho = 0.324479\n",
      "nSV = 159878, nBSV = 159844\n",
      ".........................................................................................\n",
      "Warning: using -h 0 may be faster\n",
      "*..\n",
      "Warning: using -h 0 may be faster\n",
      "*........\n",
      "Warning: using -h 0 may be faster\n",
      "*.....\n",
      "Warning: using -h 0 may be faster\n",
      "*....\n",
      "Warning: using -h 0 may be faster\n",
      "*..\n",
      "Warning: using -h 0 may be faster\n",
      "*..\n",
      "Warning: using -h 0 may be faster\n",
      "*..\n",
      "Warning: using -h 0 may be faster\n",
      "*.\n",
      "Warning: using -h 0 may be faster\n",
      "*.\n",
      "Warning: using -h 0 may be faster\n",
      "*\n",
      "optimization finished, #iter = 113928\n",
      "obj = -462065.347084, rho = -9.708800\n",
      "nSV = 156061, nBSV = 156043\n",
      "Total nSV = 337566\n"
     ]
    },
    {
     "data": {
      "text/plain": [
       "SVC(C=3.0, decision_function_shape='ovo', gamma='auto', kernel='linear',\n",
       "    random_state=0, verbose=True)"
      ]
     },
     "execution_count": 24,
     "metadata": {},
     "output_type": "execute_result"
    }
   ],
   "source": [
    "svm_clf = svm.SVC(kernel='linear',decision_function_shape = 'ovo',gamma='auto',random_state=0, C = 3.0,verbose=True)\n",
    "svm_clf.fit(X_train_sc, y_train)"
   ]
  },
  {
   "cell_type": "code",
   "execution_count": 25,
   "metadata": {},
   "outputs": [
    {
     "name": "stdout",
     "output_type": "stream",
     "text": [
      "Test Result:\n",
      "\n",
      "accuracy score: 0.7214\n",
      "\n",
      "Classification Report: \n",
      "               precision    recall  f1-score   support\n",
      "\n",
      "           0    0.76472   0.91712   0.83402     65409\n",
      "           1    0.59204   0.42901   0.49751     23878\n",
      "           2    0.62163   0.40024   0.48695     18139\n",
      "\n",
      "    accuracy                        0.72135    107426\n",
      "   macro avg    0.65946   0.58213   0.60616    107426\n",
      "weighted avg    0.70218   0.72135   0.70062    107426\n",
      "\n",
      "\n",
      "Confusion matrix, without normalization\n",
      "[[59988  3405  2016]\n",
      " [11231 10244  2403]\n",
      " [ 7225  3654  7260]]\n"
     ]
    },
    {
     "data": {
      "image/png": "[encoded data removed]",
      "text/plain": [
       "<Figure size 900x600 with 2 Axes>"
      ]
     },
     "metadata": {
      "needs_background": "light"
     },
     "output_type": "display_data"
    }
   ],
   "source": [
    "print_score(svm_clf, X_train_sc, y_train, X_test_sc, y_test, train = False)"
   ]
  },
  {
   "cell_type": "markdown",
   "metadata": {
    "id": "8eX--CtJy_ZQ"
   },
   "source": [
    "END"
   ]
  },
  {
   "cell_type": "markdown",
   "id": "dc16b97a",
   "metadata": {},
   "source": [
    "**Signed By:**\n",
    "\n",
    "Muiz Alvi",
    "\n",
    "\n",
    "Adil Jowad Qureshi"
   ]
  }
 ],
 "metadata": {
  "colab": {
   "collapsed_sections": [
    "HrWfHnk-9qv_",
    "PM3lUCyahe9P",
    "8eX--CtJy_ZQ"
   ],
   "name": "Final Defense - ML results.ipynb",
   "provenance": []
  },
  "kernelspec": {
   "display_name": "Python 3.10.0 64-bit",
   "language": "python",
   "name": "python3"
  },
  "language_info": {
   "codemirror_mode": {
    "name": "ipython",
    "version": 3
   },
   "file_extension": ".py",
   "mimetype": "text/x-python",
   "name": "python",
   "nbconvert_exporter": "python",
   "pygments_lexer": "ipython3",
   "version": "3.10.0"
  },
  "vscode": {
   "interpreter": {
    "hash": "5548b1f8ee42e2a77adb65ec7dcb6fa5ac8a1c5987168cfcc3d89c7d501c7d8e"
   }
  }
 },
 "nbformat": 4,
 "nbformat_minor": 1
}
